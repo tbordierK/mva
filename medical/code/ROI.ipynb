{
 "cells": [
  {
   "cell_type": "code",
   "execution_count": 1,
   "metadata": {
    "collapsed": false
   },
   "outputs": [],
   "source": [
    "%matplotlib inline"
   ]
  },
  {
   "cell_type": "markdown",
   "metadata": {},
   "source": [
    "# Generation of ROI dataset"
   ]
  },
  {
   "cell_type": "code",
   "execution_count": 2,
   "metadata": {
    "collapsed": false
   },
   "outputs": [],
   "source": [
    "import dicom, os, sys\n",
    "import numpy as np\n",
    "import pandas as pd\n",
    "from scipy.misc import imresize\n",
    "import matplotlib.pyplot as plt"
   ]
  },
  {
   "cell_type": "markdown",
   "metadata": {},
   "source": [
    "## File 1"
   ]
  },
  {
   "cell_type": "code",
   "execution_count": 41,
   "metadata": {
    "collapsed": true
   },
   "outputs": [],
   "source": [
    "PathDicom = \"../data/Sunnybrook Cardiac MR Database ContoursPart1\"\n",
    "\n",
    "lstFilesDCM_Online = []  # create an empty list\n",
    "for dirName, subdirList, fileList in os.walk(PathDicom):\n",
    "    for filename in fileList:\n",
    "        if \".txt\" in filename.lower():  # check whether the file's DICOM\n",
    "            lstFilesDCM_Online.append(os.path.join(dirName,filename))"
   ]
  },
  {
   "cell_type": "code",
   "execution_count": 10,
   "metadata": {
    "collapsed": false
   },
   "outputs": [
    {
     "name": "stdout",
     "output_type": "stream",
     "text": [
      "0\n",
      "100\n",
      "200\n",
      "300\n",
      "400\n",
      "500\n"
     ]
    }
   ],
   "source": [
    "Contours_Online = pd.DataFrame(columns = ['tableaux'], index = range(len(lstFilesDCM_Online)))\n",
    "for t in range(len(lstFilesDCM_Online)):\n",
    "    if t%100 == 0:\n",
    "        print(t)\n",
    "    Image_Online_1 = pd.DataFrame(columns = ['abscisse','ordonnees'], index = range(len(lstFilesDCM_Online[t])))\n",
    "    table_Online = pd.read_table(lstFilesDCM_Online[t], names = \"1\")\n",
    "    for k in range(len(table_Online)):\n",
    "        Image_Online_1['abscisse'][k] = float(table_Online[\"1\"][k].split()[0])\n",
    "        Image_Online_1['ordonnees'][k] = float(table_Online[\"1\"][k].split()[1])\n",
    "    Contours_Online['tableaux'][t] = np.array(Image_Online_1)"
   ]
  },
  {
   "cell_type": "markdown",
   "metadata": {},
   "source": [
    "## File 2 Validation"
   ]
  },
  {
   "cell_type": "code",
   "execution_count": 11,
   "metadata": {
    "collapsed": true
   },
   "outputs": [],
   "source": [
    "PathDicom = \"../data/Sunnybrook Cardiac MR Database ContoursPart2\"\n",
    "lstFilesDCM_Validation = []  # create an empty list\n",
    "for dirName, subdirList, fileList in os.walk(PathDicom):\n",
    "    for filename in fileList:\n",
    "        if \".txt\" in filename.lower():  # check whether the file's DICOM\n",
    "            lstFilesDCM_Validation.append(os.path.join(dirName,filename))"
   ]
  },
  {
   "cell_type": "code",
   "execution_count": 13,
   "metadata": {
    "collapsed": false
   },
   "outputs": [
    {
     "name": "stdout",
     "output_type": "stream",
     "text": [
      "0\n",
      "100\n",
      "200\n",
      "300\n",
      "400\n",
      "500\n"
     ]
    }
   ],
   "source": [
    "Contours_Validation = pd.DataFrame(columns = ['tableaux'], index = range(len(lstFilesDCM_Validation)))\n",
    "for t in range(len(lstFilesDCM_Validation)):\n",
    "    if t%100 == 0:\n",
    "        print(t)\n",
    "    Image_Validation_1 = pd.DataFrame(columns = ['abscisse','ordonnees'], index = range(len(lstFilesDCM_Validation[t])))\n",
    "    table_Validation = pd.read_table(lstFilesDCM_Validation[t], names = \"1\")\n",
    "    for k in range(len(table_Validation)):\n",
    "        Image_Validation_1['abscisse'][k] = float(table_Validation[\"1\"][k].split()[0])\n",
    "        Image_Validation_1['ordonnees'][k] = float(table_Validation[\"1\"][k].split()[1])\n",
    "    Contours_Validation['tableaux'][t] = np.array(Image_Validation_1)"
   ]
  },
  {
   "cell_type": "markdown",
   "metadata": {},
   "source": [
    "## Part 2 Training"
   ]
  },
  {
   "cell_type": "code",
   "execution_count": 5,
   "metadata": {
    "collapsed": false
   },
   "outputs": [],
   "source": [
    "PathDicom = \"../data/Sunnybrook Cardiac MR Database ContoursPart3\"\n",
    "lstFilesDCM_Training = []  # create an empty list\n",
    "for dirName, subdirList, fileList in os.walk(PathDicom):\n",
    "    for filename in fileList:\n",
    "        if \".txt\" in filename.lower():  # check whether the file's DICOM\n",
    "            if \"icontour\" in filename.lower():\n",
    "                lstFilesDCM_Training.append(os.path.join(dirName,filename))"
   ]
  },
  {
   "cell_type": "code",
   "execution_count": 7,
   "metadata": {
    "collapsed": false
   },
   "outputs": [
    {
     "name": "stdout",
     "output_type": "stream",
     "text": [
      "0\n",
      "100\n",
      "200\n"
     ]
    }
   ],
   "source": [
    "Contours_Training = pd.DataFrame(columns = ['tableaux'], index = range(len(lstFilesDCM_Training)))\n",
    "for t in range(len(lstFilesDCM_Training)):\n",
    "    if t%100 == 0:\n",
    "        print(t)\n",
    "    Image_Training_1 = pd.DataFrame(columns = ['abscisse','ordonnees'], index = range(len(lstFilesDCM_Training[t])))\n",
    "    table_Training = pd.read_table(lstFilesDCM_Training[t], names = \"1\")\n",
    "    for k in range(len(table_Training)):\n",
    "        Image_Training_1['abscisse'][k] = float(table_Training[\"1\"][k].split()[0])\n",
    "        Image_Training_1['ordonnees'][k] = float(table_Training[\"1\"][k].split()[1])\n",
    "    Contours_Training['tableaux'][t] = np.array(Image_Training_1)"
   ]
  },
  {
   "cell_type": "markdown",
   "metadata": {},
   "source": [
    "## Create Table of ROI Online"
   ]
  },
  {
   "cell_type": "code",
   "execution_count": 45,
   "metadata": {
    "collapsed": false
   },
   "outputs": [
    {
     "name": "stdout",
     "output_type": "stream",
     "text": [
      "0\n",
      "100\n",
      "200\n",
      "300\n",
      "400\n",
      "500\n"
     ]
    }
   ],
   "source": [
    "ROI_Online = pd.DataFrame(columns = ['ROI'], index = range(len(Contours_Online)))\n",
    "for t in range(len(Contours_Online)):\n",
    "    if t%100 == 0:\n",
    "        print(t)\n",
    "    Image = Contours_Online['tableaux'][t]\n",
    "    ROI_1 = np.zeros((64,64))\n",
    "    center_1_x = 0.\n",
    "    center_1_y = 0.\n",
    "    for k in range(Image.shape[0]):\n",
    "        center_1_x += Image[k][0]/Image.shape[0]\n",
    "        center_1_y += Image[k][1]/Image.shape[0]\n",
    "    for i in range(64):\n",
    "        for j in range(64):\n",
    "            if i > np.floor(center_1_x/4) - 16 and i < np.floor(center_1_x/4) + 16 and j > np.floor(center_1_y/4) - 16 and j < np.floor(center_1_y/4) + 16:\n",
    "                ROI_1[i][j] = 1\n",
    "    ROI_Online['ROI'][t] = ROI_1"
   ]
  },
  {
   "cell_type": "code",
   "execution_count": 11,
   "metadata": {
    "collapsed": false,
    "scrolled": true
   },
   "outputs": [
    {
     "name": "stdout",
     "output_type": "stream",
     "text": [
      "(64, 64)\n"
     ]
    },
    {
     "data": {
      "text/plain": [
       "<matplotlib.image.AxesImage at 0x113deb6a0>"
      ]
     },
     "execution_count": 11,
     "metadata": {},
     "output_type": "execute_result"
    },
    {
     "data": {
      "image/png": "[encoded data removed]",
      "text/plain": [
       "<matplotlib.figure.Figure at 0x113d6ab70>"
      ]
     },
     "metadata": {},
     "output_type": "display_data"
    }
   ],
   "source": [
    "print(ROI_Training['ROI'][0].shape)\n",
    "plt.imshow(ROI_Training['ROI'][0])"
   ]
  },
  {
   "cell_type": "markdown",
   "metadata": {},
   "source": [
    "## Create ROI Validation"
   ]
  },
  {
   "cell_type": "code",
   "execution_count": 77,
   "metadata": {
    "collapsed": false
   },
   "outputs": [
    {
     "name": "stdout",
     "output_type": "stream",
     "text": [
      "0\n",
      "100\n",
      "200\n",
      "300\n",
      "400\n",
      "500\n"
     ]
    }
   ],
   "source": [
    "ROI_Validation = pd.DataFrame(columns = ['ROI'], index = range(len(Contours_Validation)))\n",
    "for t in range(len(Contours_Validation)):\n",
    "    if t%100 == 0:\n",
    "        print(t)\n",
    "    Image = Contours_Validation['tableaux'][t]\n",
    "    ROI_1 = np.zeros((64,64))\n",
    "    center_1_x = 0.\n",
    "    center_1_y = 0.\n",
    "    for k in range(Image.shape[0]):\n",
    "        center_1_x += Image[k][0]/Image.shape[0]\n",
    "        center_1_y += Image[k][1]/Image.shape[0]\n",
    "    for i in range(64):\n",
    "        for j in range(64):\n",
    "            if i > np.floor(center_1_x/4) - 16 and i < np.floor(center_1_x/4) + 16 and j > np.floor(center_1_y/4) - 16 and j < np.floor(center_1_y/4) + 16:\n",
    "                ROI_1[i][j] = 1\n",
    "    ROI_Validation['ROI'][t] = ROI_1"
   ]
  },
  {
   "cell_type": "markdown",
   "metadata": {},
   "source": [
    "## Create ROI Training"
   ]
  },
  {
   "cell_type": "code",
   "execution_count": 8,
   "metadata": {
    "collapsed": false
   },
   "outputs": [
    {
     "name": "stdout",
     "output_type": "stream",
     "text": [
      "0\n",
      "100\n",
      "200\n"
     ]
    }
   ],
   "source": [
    "ROI_Training = pd.DataFrame(columns = ['ROI'], index = range(len(Contours_Training)))\n",
    "for t in range(len(Contours_Training)):\n",
    "    if t%100 == 0:\n",
    "        print(t)\n",
    "    Image = Contours_Training['tableaux'][t]\n",
    "    ROI_1 = np.zeros((64,64))\n",
    "    center_1_x = 0.\n",
    "    center_1_y = 0.\n",
    "    for k in range(Image.shape[0]):\n",
    "        center_1_x += Image[k][0]/Image.shape[0]\n",
    "        center_1_y += Image[k][1]/Image.shape[0]\n",
    "    for i in range(64):\n",
    "        for j in range(64):\n",
    "            if i > np.floor(center_1_x/4) - 16 and i < np.floor(center_1_x/4) + 16 and j > np.floor(center_1_y/4) - 16 and j < np.floor(center_1_y/4) + 16:\n",
    "                ROI_1[i][j] = 1\n",
    "    ROI_Training['ROI'][t] = ROI_1"
   ]
  },
  {
   "cell_type": "code",
   "execution_count": 9,
   "metadata": {
    "collapsed": false
   },
   "outputs": [
    {
     "ename": "NameError",
     "evalue": "name 'ROI_Online' is not defined",
     "output_type": "error",
     "traceback": [
      "\u001b[0;31m---------------------------------------------------------------------------\u001b[0m",
      "\u001b[0;31mNameError\u001b[0m                                 Traceback (most recent call last)",
      "\u001b[0;32m<ipython-input-9-1da4fd635cdb>\u001b[0m in \u001b[0;36m<module>\u001b[0;34m()\u001b[0m\n\u001b[0;32m----> 1\u001b[0;31m \u001b[0mROI_Online\u001b[0m\u001b[0;34m[\u001b[0m\u001b[0;34m'ROI'\u001b[0m\u001b[0;34m]\u001b[0m\u001b[0;34m[\u001b[0m\u001b[0;36m0\u001b[0m\u001b[0;34m]\u001b[0m\u001b[0;34m.\u001b[0m\u001b[0mshape\u001b[0m\u001b[0;34m\u001b[0m\u001b[0m\n\u001b[0m",
      "\u001b[0;31mNameError\u001b[0m: name 'ROI_Online' is not defined"
     ]
    }
   ],
   "source": [
    "ROI_Online['ROI'][0].shape"
   ]
  },
  {
   "cell_type": "code",
   "execution_count": 10,
   "metadata": {
    "collapsed": false
   },
   "outputs": [
    {
     "data": {
      "text/plain": [
       "(64, 64)"
      ]
     },
     "execution_count": 10,
     "metadata": {},
     "output_type": "execute_result"
    }
   ],
   "source": [
    "ROI_Training['ROI'][0].shape"
   ]
  },
  {
   "cell_type": "code",
   "execution_count": 81,
   "metadata": {
    "collapsed": false
   },
   "outputs": [
    {
     "data": {
      "text/plain": [
       "(64, 64)"
      ]
     },
     "execution_count": 81,
     "metadata": {},
     "output_type": "execute_result"
    }
   ],
   "source": [
    "ROI_Validation['ROI'][0].shape"
   ]
  },
  {
   "cell_type": "code",
   "execution_count": 12,
   "metadata": {
    "collapsed": false
   },
   "outputs": [],
   "source": [
    "import h5py"
   ]
  },
  {
   "cell_type": "code",
   "execution_count": 15,
   "metadata": {
    "collapsed": false
   },
   "outputs": [],
   "source": [
    "n = ROI_Training.shape[0]\n",
    "\n",
    "OUTPUT = '../data/roi_training.h5'\n",
    "\n",
    "with h5py.File(OUTPUT, 'w') as hf:\n",
    "    X = hf.create_dataset(\"X\", (n, 64, 64), maxshape=(None, 64, 64))\n",
    "    for k in range(n):\n",
    "        X[k,:,:] = ROI_Training['ROI'][k]"
   ]
  },
  {
   "cell_type": "code",
   "execution_count": 35,
   "metadata": {
    "collapsed": true
   },
   "outputs": [],
   "source": [
    "file_h5 = h5py.File(OUTPUT, \"r\")"
   ]
  },
  {
   "cell_type": "code",
   "execution_count": 86,
   "metadata": {
    "collapsed": true
   },
   "outputs": [],
   "source": [
    "n = ROI_Validation.shape[0]\n",
    "\n",
    "OUTPUT = '../data/roi_validation.h5'\n",
    "\n",
    "with h5py.File(OUTPUT, 'w') as hf:\n",
    "    X = hf.create_dataset(\"X\", (n, 64, 64), maxshape=(None, 64, 64))\n",
    "    for k in range(n):\n",
    "        X[k,:,:] = ROI_Validation['ROI'][k]"
   ]
  },
  {
   "cell_type": "code",
   "execution_count": 87,
   "metadata": {
    "collapsed": true
   },
   "outputs": [],
   "source": [
    "file_h5 = h5py.File(OUTPUT, \"r\")"
   ]
  },
  {
   "cell_type": "code",
   "execution_count": 88,
   "metadata": {
    "collapsed": true
   },
   "outputs": [],
   "source": [
    "n = ROI_Online.shape[0]\n",
    "\n",
    "OUTPUT = '../data/roi_online.h5'\n",
    "\n",
    "with h5py.File(OUTPUT, 'w') as hf:\n",
    "    X = hf.create_dataset(\"X\", (n, 64, 64), maxshape=(None, 64, 64))\n",
    "    for k in range(n):\n",
    "        X[k,:,:] = ROI_Online['ROI'][k]"
   ]
  },
  {
   "cell_type": "code",
   "execution_count": 89,
   "metadata": {
    "collapsed": false
   },
   "outputs": [
    {
     "data": {
      "text/plain": [
       "495"
      ]
     },
     "execution_count": 89,
     "metadata": {},
     "output_type": "execute_result"
    }
   ],
   "source": [
    "len(lstFilesDCM_Training)"
   ]
  },
  {
   "cell_type": "code",
   "execution_count": null,
   "metadata": {
    "collapsed": true
   },
   "outputs": [],
   "source": []
  }
 ],
 "metadata": {
  "kernelspec": {
   "display_name": "Python 3",
   "language": "python",
   "name": "python3"
  },
  "language_info": {
   "codemirror_mode": {
    "name": "ipython",
    "version": 3
   },
   "file_extension": ".py",
   "mimetype": "text/x-python",
   "name": "python",
   "nbconvert_exporter": "python",
   "pygments_lexer": "ipython3",
   "version": "3.5.1"
  }
 },
 "nbformat": 4,
 "nbformat_minor": 1
}
