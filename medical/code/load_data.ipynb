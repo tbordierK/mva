{
 "cells": [
  {
   "cell_type": "code",
   "execution_count": 6,
   "metadata": {
    "collapsed": true
   },
   "outputs": [],
   "source": [
    "%matplotlib inline"
   ]
  },
  {
   "cell_type": "code",
   "execution_count": 3,
   "metadata": {
    "collapsed": true
   },
   "outputs": [],
   "source": [
    "import dicom,os\n",
    "import numpy as np\n",
    "from scipy.misc import imresize"
   ]
  },
  {
   "cell_type": "code",
   "execution_count": 4,
   "metadata": {
    "collapsed": false
   },
   "outputs": [],
   "source": [
    "PathDicom = \"../data/challenge_training/\"\n",
    "lstFilesDCM = []  # create an empty list\n",
    "stFilesDCM = []  # create an empty list\n",
    "for dirName, subdirList, fileList in os.walk(PathDicom):\n",
    "    for filename in fileList:\n",
    "        if \".dcm\" in filename.lower():  # check whether the file's DICOM\n",
    "            lstFilesDCM.append(os.path.join(dirName,filename))"
   ]
  },
  {
   "cell_type": "code",
   "execution_count": 5,
   "metadata": {
    "collapsed": false
   },
   "outputs": [],
   "source": [
    "# Get ref file\n",
    "RefDs = dicom.read_file(lstFilesDCM[1])\n",
    "\n",
    "# Load dimensions based on the number of rows, columns, and slices (along the Z axis)\n",
    "ConstPixelDims = (int(RefDs.Rows), int(RefDs.Columns), len(lstFilesDCM))\n",
    "\n",
    "# Load spacing values (in mm)\n",
    "ConstPixelSpacing = (float(RefDs.PixelSpacing[0]), float(RefDs.PixelSpacing[1]), float(RefDs.SliceThickness))\n"
   ]
  },
  {
   "cell_type": "code",
   "execution_count": 5,
   "metadata": {
    "collapsed": false
   },
   "outputs": [],
   "source": [
    "x = np.arange(0.0, (ConstPixelDims[0]+1)*ConstPixelSpacing[0], ConstPixelSpacing[0])\n",
    "y = np.arange(0.0, (ConstPixelDims[1]+1)*ConstPixelSpacing[1], ConstPixelSpacing[1])\n",
    "z = np.arange(0.0, (ConstPixelDims[2]+1)*ConstPixelSpacing[2], ConstPixelSpacing[2])"
   ]
  },
  {
   "cell_type": "code",
   "execution_count": null,
   "metadata": {
    "collapsed": true
   },
   "outputs": [],
   "source": [
    "n = ROI_Training.shape[0]\n",
    "\n",
    "OUTPUT = '../data/training.h5'\n",
    "\n",
    "with h5py.File(OUTPUT, 'w') as hf:\n",
    "    X = hf.create_dataset(\"X\", (n, 64, 64), maxshape=(None, 64, 64))\n",
    "    for filenameDCM in enumerate(lstFilesDCM):\n",
    "    # read the file\n",
    "    try:\n",
    "        ds = dicom.read_file(filenameDCM)\n",
    "        # store the raw image data\n",
    "        if len(ds.pixel_array.shape) == 2:\n",
    "            X[:, :, lstFilesDCM.index(filenameDCM)] = imresize(ds.pixel_array,size=(64,64))\n",
    "    except ValueError:\n",
    "        continue"
   ]
  },
  {
   "cell_type": "code",
   "execution_count": 5,
   "metadata": {
    "collapsed": false
   },
   "outputs": [
    {
     "name": "stderr",
     "output_type": "stream",
     "text": [
      "ERROR: Internal Python error in the inspect module.\n",
      "Below is the traceback from this internal error.\n",
      "\n",
      "\n",
      "Unfortunately, your original traceback can not be constructed.\n",
      "\n",
      "ERROR: "
     ]
    },
    {
     "name": "stdout",
     "output_type": "stream",
     "text": [
      "Traceback (most recent call last):\n",
      "  File \"/Users/Thomas/anaconda/envs/py35/lib/python3.5/site-packages/IPython/core/interactiveshell.py\", line 3066, in run_code\n",
      "    exec(code_obj, self.user_global_ns, self.user_ns)\n",
      "  File \"<ipython-input-6-c35c40ec49aa>\", line 10, in <module>\n",
      "    if len(ds.pixel_array.shape) == 2:\n",
      "  File \"/Users/Thomas/anaconda/envs/py35/lib/python3.5/site-packages/dicom/dataset.py\", line 418, in pixel_array\n",
      "    return self._get_pixel_array()\n",
      "  File \"/Users/Thomas/anaconda/envs/py35/lib/python3.5/site-packages/dicom/dataset.py\", line 410, in _get_pixel_array\n",
      "    self._pixel_array = self._pixel_data_numpy()\n",
      "  File \"/Users/Thomas/anaconda/envs/py35/lib/python3.5/site-packages/dicom/dataset.py\", line 364, in _pixel_data_numpy\n",
      "    self.BitsAllocated)\n",
      "  File \"/Users/Thomas/anaconda/envs/py35/lib/python3.5/site-packages/dicom/dataset.py\", line 259, in __getattr__\n",
      "    return self[tag].value\n",
      "  File \"/Users/Thomas/anaconda/envs/py35/lib/python3.5/site-packages/dicom/dataset.py\", line 294, in __getitem__\n",
      "    self[tag] = DataElement_from_raw(data_elem, character_set)\n",
      "  File \"/Users/Thomas/anaconda/envs/py35/lib/python3.5/site-packages/dicom/dataelem.py\", line 320, in DataElement_from_raw\n",
      "    value = convert_value(VR, raw, encoding)\n",
      "  File \"/Users/Thomas/anaconda/envs/py35/lib/python3.5/site-packages/dicom/values.py\", line 195, in convert_value\n",
      "    value = converter(byte_string, is_little_endian, num_format)\n",
      "  File \"/Users/Thomas/anaconda/envs/py35/lib/python3.5/site-packages/dicom/values.py\", line 76, in convert_numbers\n",
      "    format_string = \"%c%u%c\" % (endianChar, length // bytes_per_value, struct_format)\n",
      "KeyboardInterrupt\n",
      "\n",
      "During handling of the above exception, another exception occurred:\n",
      "\n",
      "Traceback (most recent call last):\n",
      "  File \"/Users/Thomas/anaconda/envs/py35/lib/python3.5/site-packages/IPython/core/interactiveshell.py\", line 1877, in showtraceback\n",
      "    stb = value._render_traceback_()\n",
      "AttributeError: 'KeyboardInterrupt' object has no attribute '_render_traceback_'\n",
      "\n",
      "During handling of the above exception, another exception occurred:\n",
      "\n",
      "Traceback (most recent call last):\n",
      "  File \"/Users/Thomas/anaconda/envs/py35/lib/python3.5/site-packages/IPython/core/ultratb.py\", line 970, in get_records\n",
      "    return _fixed_getinnerframes(etb, number_of_lines_of_context, tb_offset)\n",
      "  File \"/Users/Thomas/anaconda/envs/py35/lib/python3.5/site-packages/IPython/core/ultratb.py\", line 233, in wrapped\n",
      "    return f(*args, **kwargs)\n",
      "  File \"/Users/Thomas/anaconda/envs/py35/lib/python3.5/site-packages/IPython/core/ultratb.py\", line 267, in _fixed_getinnerframes\n",
      "    records = fix_frame_records_filenames(inspect.getinnerframes(etb, context))\n",
      "  File \"/Users/Thomas/anaconda/envs/py35/lib/python3.5/inspect.py\", line 1453, in getinnerframes\n",
      "    frameinfo = (tb.tb_frame,) + getframeinfo(tb, context)\n",
      "  File \"/Users/Thomas/anaconda/envs/py35/lib/python3.5/inspect.py\", line 1410, in getframeinfo\n",
      "    filename = getsourcefile(frame) or getfile(frame)\n",
      "  File \"/Users/Thomas/anaconda/envs/py35/lib/python3.5/inspect.py\", line 672, in getsourcefile\n",
      "    if getattr(getmodule(object, filename), '__loader__', None) is not None:\n",
      "  File \"/Users/Thomas/anaconda/envs/py35/lib/python3.5/inspect.py\", line 715, in getmodule\n",
      "    f = getabsfile(module)\n",
      "  File \"/Users/Thomas/anaconda/envs/py35/lib/python3.5/inspect.py\", line 684, in getabsfile\n",
      "    _filename = getsourcefile(object) or getfile(object)\n",
      "  File \"/Users/Thomas/anaconda/envs/py35/lib/python3.5/inspect.py\", line 669, in getsourcefile\n",
      "    if os.path.exists(filename):\n",
      "  File \"/Users/Thomas/anaconda/envs/py35/lib/python3.5/genericpath.py\", line 19, in exists\n",
      "    os.stat(path)\n",
      "KeyboardInterrupt\n",
      "Traceback (most recent call last):\n",
      "  File \"/Users/Thomas/anaconda/envs/py35/lib/python3.5/site-packages/IPython/core/interactiveshell.py\", line 3066, in run_code\n",
      "    exec(code_obj, self.user_global_ns, self.user_ns)\n",
      "  File \"<ipython-input-6-c35c40ec49aa>\", line 10, in <module>\n",
      "    if len(ds.pixel_array.shape) == 2:\n",
      "  File \"/Users/Thomas/anaconda/envs/py35/lib/python3.5/site-packages/dicom/dataset.py\", line 418, in pixel_array\n",
      "    return self._get_pixel_array()\n",
      "  File \"/Users/Thomas/anaconda/envs/py35/lib/python3.5/site-packages/dicom/dataset.py\", line 410, in _get_pixel_array\n",
      "    self._pixel_array = self._pixel_data_numpy()\n",
      "  File \"/Users/Thomas/anaconda/envs/py35/lib/python3.5/site-packages/dicom/dataset.py\", line 364, in _pixel_data_numpy\n",
      "    self.BitsAllocated)\n",
      "  File \"/Users/Thomas/anaconda/envs/py35/lib/python3.5/site-packages/dicom/dataset.py\", line 259, in __getattr__\n",
      "    return self[tag].value\n",
      "  File \"/Users/Thomas/anaconda/envs/py35/lib/python3.5/site-packages/dicom/dataset.py\", line 294, in __getitem__\n",
      "    self[tag] = DataElement_from_raw(data_elem, character_set)\n",
      "  File \"/Users/Thomas/anaconda/envs/py35/lib/python3.5/site-packages/dicom/dataelem.py\", line 320, in DataElement_from_raw\n",
      "    value = convert_value(VR, raw, encoding)\n",
      "  File \"/Users/Thomas/anaconda/envs/py35/lib/python3.5/site-packages/dicom/values.py\", line 195, in convert_value\n",
      "    value = converter(byte_string, is_little_endian, num_format)\n",
      "  File \"/Users/Thomas/anaconda/envs/py35/lib/python3.5/site-packages/dicom/values.py\", line 76, in convert_numbers\n",
      "    format_string = \"%c%u%c\" % (endianChar, length // bytes_per_value, struct_format)\n",
      "KeyboardInterrupt\n",
      "\n",
      "During handling of the above exception, another exception occurred:\n",
      "\n",
      "Traceback (most recent call last):\n",
      "  File \"/Users/Thomas/anaconda/envs/py35/lib/python3.5/site-packages/IPython/core/interactiveshell.py\", line 1877, in showtraceback\n",
      "    stb = value._render_traceback_()\n",
      "AttributeError: 'KeyboardInterrupt' object has no attribute '_render_traceback_'\n",
      "\n",
      "During handling of the above exception, another exception occurred:\n",
      "\n",
      "Traceback (most recent call last):\n",
      "  File \"/Users/Thomas/anaconda/envs/py35/lib/python3.5/site-packages/IPython/core/interactiveshell.py\", line 3006, in run_ast_nodes\n",
      "    if self.run_code(code, result):\n",
      "  File \"/Users/Thomas/anaconda/envs/py35/lib/python3.5/site-packages/IPython/core/interactiveshell.py\", line 3083, in run_code\n",
      "    self.showtraceback()\n",
      "  File \"/Users/Thomas/anaconda/envs/py35/lib/python3.5/site-packages/IPython/core/interactiveshell.py\", line 1880, in showtraceback\n",
      "    value, tb, tb_offset=tb_offset)\n",
      "  File \"/Users/Thomas/anaconda/envs/py35/lib/python3.5/site-packages/IPython/core/ultratb.py\", line 1242, in structured_traceback\n",
      "    self, etype, value, tb, tb_offset, number_of_lines_of_context)\n",
      "  File \"/Users/Thomas/anaconda/envs/py35/lib/python3.5/site-packages/IPython/core/ultratb.py\", line 1150, in structured_traceback\n",
      "    self, etype, value, tb, tb_offset, number_of_lines_of_context\n",
      "  File \"/Users/Thomas/anaconda/envs/py35/lib/python3.5/site-packages/IPython/core/ultratb.py\", line 1002, in structured_traceback\n",
      "    tb_offset)\n",
      "  File \"/Users/Thomas/anaconda/envs/py35/lib/python3.5/site-packages/IPython/core/ultratb.py\", line 951, in format_exception_as_a_whole\n",
      "    frames = self.format_records(records)\n",
      "  File \"/Users/Thomas/anaconda/envs/py35/lib/python3.5/site-packages/IPython/core/ultratb.py\", line 724, in format_records\n",
      "    for frame, file, lnum, func, lines, index in records:\n",
      "TypeError: 'NoneType' object is not iterable\n",
      "\n",
      "During handling of the above exception, another exception occurred:\n",
      "\n",
      "Traceback (most recent call last):\n",
      "  File \"/Users/Thomas/anaconda/envs/py35/lib/python3.5/site-packages/IPython/core/interactiveshell.py\", line 1877, in showtraceback\n",
      "    stb = value._render_traceback_()\n",
      "AttributeError: 'TypeError' object has no attribute '_render_traceback_'\n",
      "\n",
      "During handling of the above exception, another exception occurred:\n",
      "\n",
      "Traceback (most recent call last):\n",
      "  File \"/Users/Thomas/anaconda/envs/py35/lib/python3.5/site-packages/IPython/core/ultratb.py\", line 970, in get_records\n",
      "    return _fixed_getinnerframes(etb, number_of_lines_of_context, tb_offset)\n",
      "  File \"/Users/Thomas/anaconda/envs/py35/lib/python3.5/site-packages/IPython/core/ultratb.py\", line 233, in wrapped\n",
      "    return f(*args, **kwargs)\n",
      "  File \"/Users/Thomas/anaconda/envs/py35/lib/python3.5/site-packages/IPython/core/ultratb.py\", line 267, in _fixed_getinnerframes\n",
      "    records = fix_frame_records_filenames(inspect.getinnerframes(etb, context))\n",
      "  File \"/Users/Thomas/anaconda/envs/py35/lib/python3.5/inspect.py\", line 1453, in getinnerframes\n",
      "    frameinfo = (tb.tb_frame,) + getframeinfo(tb, context)\n",
      "  File \"/Users/Thomas/anaconda/envs/py35/lib/python3.5/inspect.py\", line 1410, in getframeinfo\n",
      "    filename = getsourcefile(frame) or getfile(frame)\n",
      "  File \"/Users/Thomas/anaconda/envs/py35/lib/python3.5/inspect.py\", line 672, in getsourcefile\n",
      "    if getattr(getmodule(object, filename), '__loader__', None) is not None:\n",
      "  File \"/Users/Thomas/anaconda/envs/py35/lib/python3.5/inspect.py\", line 715, in getmodule\n",
      "    f = getabsfile(module)\n",
      "  File \"/Users/Thomas/anaconda/envs/py35/lib/python3.5/inspect.py\", line 685, in getabsfile\n",
      "    return os.path.normcase(os.path.abspath(_filename))\n",
      "  File \"/Users/Thomas/anaconda/envs/py35/lib/python3.5/posixpath.py\", line 357, in abspath\n",
      "    if not isabs(path):\n",
      "  File \"/Users/Thomas/anaconda/envs/py35/lib/python3.5/posixpath.py\", line 63, in isabs\n",
      "    sep = _get_sep(s)\n",
      "  File \"/Users/Thomas/anaconda/envs/py35/lib/python3.5/posixpath.py\", line 40, in _get_sep\n",
      "    if isinstance(path, bytes):\n",
      "KeyboardInterrupt\n"
     ]
    },
    {
     "name": "stderr",
     "output_type": "stream",
     "text": [
      "Internal Python error in the inspect module.\n",
      "Below is the traceback from this internal error.\n",
      "\n",
      "\n",
      "Unfortunately, your original traceback can not be constructed.\n",
      "\n"
     ]
    },
    {
     "ename": "TypeError",
     "evalue": "'NoneType' object is not iterable",
     "output_type": "error",
     "traceback": [
      "Traceback (most recent call last):\n",
      "  File \"/Users/Thomas/anaconda/envs/py35/lib/python3.5/site-packages/IPython/core/interactiveshell.py\", line 3066, in run_code\n    exec(code_obj, self.user_global_ns, self.user_ns)\n",
      "  File \"<ipython-input-6-c35c40ec49aa>\", line 10, in <module>\n    if len(ds.pixel_array.shape) == 2:\n",
      "  File \"/Users/Thomas/anaconda/envs/py35/lib/python3.5/site-packages/dicom/dataset.py\", line 418, in pixel_array\n    return self._get_pixel_array()\n",
      "  File \"/Users/Thomas/anaconda/envs/py35/lib/python3.5/site-packages/dicom/dataset.py\", line 410, in _get_pixel_array\n    self._pixel_array = self._pixel_data_numpy()\n",
      "  File \"/Users/Thomas/anaconda/envs/py35/lib/python3.5/site-packages/dicom/dataset.py\", line 364, in _pixel_data_numpy\n    self.BitsAllocated)\n",
      "  File \"/Users/Thomas/anaconda/envs/py35/lib/python3.5/site-packages/dicom/dataset.py\", line 259, in __getattr__\n    return self[tag].value\n",
      "  File \"/Users/Thomas/anaconda/envs/py35/lib/python3.5/site-packages/dicom/dataset.py\", line 294, in __getitem__\n    self[tag] = DataElement_from_raw(data_elem, character_set)\n",
      "  File \"/Users/Thomas/anaconda/envs/py35/lib/python3.5/site-packages/dicom/dataelem.py\", line 320, in DataElement_from_raw\n    value = convert_value(VR, raw, encoding)\n",
      "  File \"/Users/Thomas/anaconda/envs/py35/lib/python3.5/site-packages/dicom/values.py\", line 195, in convert_value\n    value = converter(byte_string, is_little_endian, num_format)\n",
      "  File \"/Users/Thomas/anaconda/envs/py35/lib/python3.5/site-packages/dicom/values.py\", line 76, in convert_numbers\n    format_string = \"%c%u%c\" % (endianChar, length // bytes_per_value, struct_format)\n",
      "KeyboardInterrupt\n",
      "\nDuring handling of the above exception, another exception occurred:\n\n",
      "Traceback (most recent call last):\n",
      "  File \"/Users/Thomas/anaconda/envs/py35/lib/python3.5/site-packages/IPython/core/interactiveshell.py\", line 1877, in showtraceback\n    stb = value._render_traceback_()\n",
      "AttributeError: 'KeyboardInterrupt' object has no attribute '_render_traceback_'\n",
      "\nDuring handling of the above exception, another exception occurred:\n\n",
      "Traceback (most recent call last):\n",
      "  File \"/Users/Thomas/anaconda/envs/py35/lib/python3.5/site-packages/IPython/core/interactiveshell.py\", line 3006, in run_ast_nodes\n    if self.run_code(code, result):\n",
      "  File \"/Users/Thomas/anaconda/envs/py35/lib/python3.5/site-packages/IPython/core/interactiveshell.py\", line 3083, in run_code\n    self.showtraceback()\n",
      "  File \"/Users/Thomas/anaconda/envs/py35/lib/python3.5/site-packages/IPython/core/interactiveshell.py\", line 1880, in showtraceback\n    value, tb, tb_offset=tb_offset)\n",
      "  File \"/Users/Thomas/anaconda/envs/py35/lib/python3.5/site-packages/IPython/core/ultratb.py\", line 1242, in structured_traceback\n    self, etype, value, tb, tb_offset, number_of_lines_of_context)\n",
      "  File \"/Users/Thomas/anaconda/envs/py35/lib/python3.5/site-packages/IPython/core/ultratb.py\", line 1150, in structured_traceback\n    self, etype, value, tb, tb_offset, number_of_lines_of_context\n",
      "  File \"/Users/Thomas/anaconda/envs/py35/lib/python3.5/site-packages/IPython/core/ultratb.py\", line 1002, in structured_traceback\n    tb_offset)\n",
      "  File \"/Users/Thomas/anaconda/envs/py35/lib/python3.5/site-packages/IPython/core/ultratb.py\", line 951, in format_exception_as_a_whole\n    frames = self.format_records(records)\n",
      "  File \"/Users/Thomas/anaconda/envs/py35/lib/python3.5/site-packages/IPython/core/ultratb.py\", line 724, in format_records\n    for frame, file, lnum, func, lines, index in records:\n",
      "TypeError: 'NoneType' object is not iterable\n",
      "\nDuring handling of the above exception, another exception occurred:\n\n",
      "Traceback (most recent call last):\n",
      "  File \"/Users/Thomas/anaconda/envs/py35/lib/python3.5/site-packages/IPython/core/interactiveshell.py\", line 1877, in showtraceback\n    stb = value._render_traceback_()\n",
      "AttributeError: 'TypeError' object has no attribute '_render_traceback_'\n",
      "\nDuring handling of the above exception, another exception occurred:\n\n",
      "Traceback (most recent call last):\n",
      "  File \"/Users/Thomas/anaconda/envs/py35/lib/python3.5/site-packages/ipykernel/ipkernel.py\", line 175, in do_execute\n    shell.run_cell(code, store_history=store_history, silent=silent)\n",
      "  File \"/Users/Thomas/anaconda/envs/py35/lib/python3.5/site-packages/IPython/core/interactiveshell.py\", line 2902, in run_cell\n    interactivity=interactivity, compiler=compiler, result=result)\n",
      "  File \"/Users/Thomas/anaconda/envs/py35/lib/python3.5/site-packages/IPython/core/interactiveshell.py\", line 3031, in run_ast_nodes\n    self.showtraceback()\n",
      "  File \"/Users/Thomas/anaconda/envs/py35/lib/python3.5/site-packages/IPython/core/interactiveshell.py\", line 1880, in showtraceback\n    value, tb, tb_offset=tb_offset)\n",
      "  File \"/Users/Thomas/anaconda/envs/py35/lib/python3.5/site-packages/IPython/core/ultratb.py\", line 1242, in structured_traceback\n    self, etype, value, tb, tb_offset, number_of_lines_of_context)\n",
      "  File \"/Users/Thomas/anaconda/envs/py35/lib/python3.5/site-packages/IPython/core/ultratb.py\", line 1150, in structured_traceback\n    self, etype, value, tb, tb_offset, number_of_lines_of_context\n",
      "  File \"/Users/Thomas/anaconda/envs/py35/lib/python3.5/site-packages/IPython/core/ultratb.py\", line 1020, in structured_traceback\n    chained_exceptions_tb_offset)\n",
      "  File \"/Users/Thomas/anaconda/envs/py35/lib/python3.5/site-packages/IPython/core/ultratb.py\", line 951, in format_exception_as_a_whole\n    frames = self.format_records(records)\n",
      "  File \"/Users/Thomas/anaconda/envs/py35/lib/python3.5/site-packages/IPython/core/ultratb.py\", line 724, in format_records\n    for frame, file, lnum, func, lines, index in records:\n",
      "TypeError: 'NoneType' object is not iterable\n"
     ]
    }
   ],
   "source": [
    "# The array is sized based on 'ConstPixelDims'\n",
    "ArrayDicom = np.zeros((64, 64, 16863), dtype=RefDs.pixel_array.dtype)\n",
    "\n",
    "# loop through all the DICOM files\n",
    "for filenameDCM in lstFilesDCM:\n",
    "    # read the file\n",
    "    try:\n",
    "        ds = dicom.read_file(filenameDCM)\n",
    "        # store the raw image data\n",
    "        if len(ds.pixel_array.shape) == 2:\n",
    "            ArrayDicom[:, :, lstFilesDCM.index(filenameDCM)] = imresize(ds.pixel_array,size=(64,64))\n",
    "    except ValueError:\n",
    "        continue"
   ]
  },
  {
   "cell_type": "code",
   "execution_count": null,
   "metadata": {
    "collapsed": false
   },
   "outputs": [],
   "source": [
    "plt.figure(dpi=300)\n",
    "plt.axes().set_aspect('equal', 'datalim')\n",
    "plt.set_cmap(plt.gray())\n",
    "plt.pcolormesh(ArrayDicom[:, :, 1])"
   ]
  },
  {
   "cell_type": "code",
   "execution_count": null,
   "metadata": {
    "collapsed": true
   },
   "outputs": [],
   "source": []
  }
 ],
 "metadata": {
  "kernelspec": {
   "display_name": "Python 3",
   "language": "python",
   "name": "python3"
  },
  "language_info": {
   "codemirror_mode": {
    "name": "ipython",
    "version": 3
   },
   "file_extension": ".py",
   "mimetype": "text/x-python",
   "name": "python",
   "nbconvert_exporter": "python",
   "pygments_lexer": "ipython3",
   "version": "3.5.1"
  }
 },
 "nbformat": 4,
 "nbformat_minor": 0
}
